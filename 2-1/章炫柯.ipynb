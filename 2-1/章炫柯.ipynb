{
 "cells": [
  {
   "cell_type": "code",
   "execution_count": 2,
   "id": "84909c33-f064-4f3c-87d3-71049160ac0d",
   "metadata": {},
   "outputs": [],
   "source": [
    "import pandas as pd\n",
    "import numpy as np\n"
   ]
  },
  {
   "cell_type": "code",
   "execution_count": 13,
   "id": "4cb92e74-6e81-413b-9f26-87d086b3c1b8",
   "metadata": {},
   "outputs": [
    {
     "name": "stdout",
     "output_type": "stream",
     "text": [
      "[ 97.  130.  156.5 135.2 137.7 180.5 205.2 190.  188.6 196.7 180.3 210.8\n",
      " 196.  223.  238.2 263.5 292.6 317.  335.4 327.  321.9 353.5 397.8 436.8\n",
      " 465.7 476.7 462.6 460.8 501.8 501.5 489.5 542.3 512.2 559.8 542.  567. ]\n"
     ]
    },
    {
     "data": {
      "text/plain": [
       "numpy.ndarray"
      ]
     },
     "execution_count": 13,
     "metadata": {},
     "output_type": "execute_result"
    }
   ],
   "source": [
    "filename=\"附录1.2\"\n",
    "y=pd.read_csv('%s.csv'%filename,header=None)\n",
    "y.head()\n",
    "y.iloc[:,0]=y.iloc[:,0].astype('float')\n",
    "y=y.values[:,0]\n",
    "print(y)\n",
    "type(y)"
   ]
  },
  {
   "cell_type": "code",
   "execution_count": 9,
   "id": "6610f727-946a-4fda-9bf1-6f92ac6cf0c6",
   "metadata": {},
   "outputs": [
    {
     "name": "stdout",
     "output_type": "stream",
     "text": [
      "327.5861111111111\n"
     ]
    }
   ],
   "source": [
    "#均值\n",
    "mean_production=y.mean()\n",
    "print(mean_production)"
   ]
  },
  {
   "cell_type": "code",
   "execution_count": 23,
   "id": "45ddc4d0-910c-4c58-9f8f-2b25d68cbe81",
   "metadata": {},
   "outputs": [
    {
     "name": "stdout",
     "output_type": "stream",
     "text": [
      "[ 97.  130.  156.5 135.2 137.7 180.5 205.2 190.  188.6 196.7 180.3 210.8\n",
      " 196.  223.  238.2 263.5 292.6 317.  335.4 327.  321.9 353.5 397.8 436.8\n",
      " 465.7 476.7 462.6 460.8 501.8 501.5 489.5 542.3 512.2 559.8 542. ]\n",
      "[130.  156.5 135.2 137.7 180.5 205.2 190.  188.6 196.7 180.3 210.8 196.\n",
      " 223.  238.2 263.5 292.6 317.  335.4 327.  321.9 353.5 397.8 436.8 465.7\n",
      " 476.7 462.6 460.8 501.8 501.5 489.5 542.3 512.2 559.8 542.  567. ]\n",
      "[ 97.  130.  156.5 135.2 137.7 180.5 205.2 190.  188.6 196.7 180.3 210.8\n",
      " 196.  223.  238.2 263.5 292.6 317.  335.4 327.  321.9 353.5 397.8 436.8\n",
      " 465.7 476.7 462.6 460.8 501.8 501.5 489.5 542.3 512.2 559.8]\n",
      "[156.5 135.2 137.7 180.5 205.2 190.  188.6 196.7 180.3 210.8 196.  223.\n",
      " 238.2 263.5 292.6 317.  335.4 327.  321.9 353.5 397.8 436.8 465.7 476.7\n",
      " 462.6 460.8 501.8 501.5 489.5 542.3 512.2 559.8 542.  567. ]\n",
      "[ 97.  130.  156.5 135.2 137.7 180.5 205.2 190.  188.6 196.7 180.3 210.8\n",
      " 196.  223.  238.2 263.5 292.6 317.  335.4 327.  321.9 353.5 397.8 436.8\n",
      " 465.7 476.7 462.6 460.8 501.8 501.5 489.5 542.3 512.2]\n",
      "[135.2 137.7 180.5 205.2 190.  188.6 196.7 180.3 210.8 196.  223.  238.2\n",
      " 263.5 292.6 317.  335.4 327.  321.9 353.5 397.8 436.8 465.7 476.7 462.6\n",
      " 460.8 501.8 501.5 489.5 542.3 512.2 559.8 542.  567. ]\n",
      "[1.         0.91392186 0.84342292 0.76719398]\n"
     ]
    }
   ],
   "source": [
    "#自协方差函数\n",
    "acf=np.ones(4)\n",
    "g0=np.sum((y-y.mean())**2)\n",
    "for i in range(1,4):\n",
    "    y1=y[:-i]\n",
    "    #print(y1)\n",
    "    y2=y[i:]\n",
    "   # print(y2)\n",
    "    gk=np.sum((y1-y.mean())*(y2-y.mean()))\n",
    "    acf[i]=gk/g0\n",
    "\n",
    "\n",
    "print(acf)"
   ]
  },
  {
   "cell_type": "code",
   "execution_count": null,
   "id": "298ec718-47f7-4f2e-a812-3aade37d6a71",
   "metadata": {},
   "outputs": [],
   "source": []
  }
 ],
 "metadata": {
  "kernelspec": {
   "display_name": "Python 3 (ipykernel)",
   "language": "python",
   "name": "python3"
  },
  "language_info": {
   "codemirror_mode": {
    "name": "ipython",
    "version": 3
   },
   "file_extension": ".py",
   "mimetype": "text/x-python",
   "name": "python",
   "nbconvert_exporter": "python",
   "pygments_lexer": "ipython3",
   "version": "3.9.12"
  }
 },
 "nbformat": 4,
 "nbformat_minor": 5
}
