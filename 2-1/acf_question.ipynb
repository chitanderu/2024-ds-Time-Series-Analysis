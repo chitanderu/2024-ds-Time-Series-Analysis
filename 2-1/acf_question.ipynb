{
 "cells": [
  {
   "cell_type": "markdown",
   "metadata": {},
   "source": [
    "# 畫時序圖、延遲k自相關圖、延遲k偏自相關圖"
   ]
  },
  {
   "cell_type": "code",
   "execution_count": 5,
   "metadata": {},
   "outputs": [
    {
     "ename": "ImportError",
     "evalue": "C extension: pandas.compat._constants not built. If you want to import pandas from the source directory, you may need to run 'python setup.py build_ext' to build the C extensions first.",
     "output_type": "error",
     "traceback": [
      "\u001B[1;31m---------------------------------------------------------------------------\u001B[0m",
      "\u001B[1;31mImportError\u001B[0m                               Traceback (most recent call last)",
      "File \u001B[1;32mE:\\Anaconda3\\envs\\keke\\lib\\site-packages\\pandas\\__init__.py:54\u001B[0m\n\u001B[0;32m     46\u001B[0m import pandas.core.config_init  # pyright: ignore # noqa:F401\n\u001B[0;32m     48\u001B[0m from pandas.core.api import (\n\u001B[0;32m     49\u001B[0m     # dtype\n\u001B[0;32m     50\u001B[0m     ArrowDtype,\n\u001B[0;32m     51\u001B[0m     Int8Dtype,\n\u001B[0;32m     52\u001B[0m     Int16Dtype,\n\u001B[0;32m     53\u001B[0m     Int32Dtype,\n\u001B[1;32m---> 54\u001B[0m     Int64Dtype,\n\u001B[0;32m     55\u001B[0m     UInt8Dtype,\n\u001B[0;32m     56\u001B[0m     UInt16Dtype,\n\u001B[0;32m     57\u001B[0m     UInt32Dtype,\n\u001B[0;32m     58\u001B[0m     UInt64Dtype,\n\u001B[0;32m     59\u001B[0m     Float32Dtype,\n\u001B[0;32m     60\u001B[0m     Float64Dtype,\n\u001B[0;32m     61\u001B[0m     CategoricalDtype,\n\u001B[0;32m     62\u001B[0m     PeriodDtype,\n\u001B[0;32m     63\u001B[0m     IntervalDtype,\n\u001B[0;32m     64\u001B[0m     DatetimeTZDtype,\n\u001B[0;32m     65\u001B[0m     StringDtype,\n\u001B[0;32m     66\u001B[0m     BooleanDtype,\n\u001B[0;32m     67\u001B[0m     # missing\n\u001B[0;32m     68\u001B[0m     NA,\n\u001B[0;32m     69\u001B[0m     isna,\n\u001B[0;32m     70\u001B[0m     isnull,\n\u001B[0;32m     71\u001B[0m     notna,\n\u001B[0;32m     72\u001B[0m     notnull,\n\u001B[0;32m     73\u001B[0m     # indexes\n\u001B[0;32m     74\u001B[0m     Index,\n\u001B[0;32m     75\u001B[0m     CategoricalIndex,\n\u001B[0;32m     76\u001B[0m     RangeIndex,\n\u001B[0;32m     77\u001B[0m     MultiIndex,\n\u001B[0;32m     78\u001B[0m     IntervalIndex,\n\u001B[0;32m     79\u001B[0m     TimedeltaIndex,\n\u001B[0;32m     80\u001B[0m     DatetimeIndex,\n\u001B[0;32m     81\u001B[0m     PeriodIndex,\n\u001B[0;32m     82\u001B[0m     IndexSlice,\n\u001B[0;32m     83\u001B[0m     # tseries\n\u001B[0;32m     84\u001B[0m     NaT,\n\u001B[0;32m     85\u001B[0m     Period,\n\u001B[0;32m     86\u001B[0m     period_range,\n\u001B[0;32m     87\u001B[0m     Timedelta,\n\u001B[0;32m     88\u001B[0m     timedelta_range,\n\u001B[0;32m     89\u001B[0m     Timestamp,\n\u001B[0;32m     90\u001B[0m     date_range,\n\u001B[0;32m     91\u001B[0m     bdate_range,\n\u001B[0;32m     92\u001B[0m     Interval,\n\u001B[0;32m     93\u001B[0m     interval_range,\n\u001B[0;32m     94\u001B[0m     DateOffset,\n\u001B[0;32m     95\u001B[0m     # conversion\n\u001B[0;32m     96\u001B[0m     to_numeric,\n\u001B[0;32m     97\u001B[0m     to_datetime,\n\u001B[0;32m     98\u001B[0m     to_timedelta,\n\u001B[0;32m     99\u001B[0m     # misc\n\u001B[0;32m    100\u001B[0m     Flags,\n\u001B[0;32m    101\u001B[0m     Grouper,\n\u001B[0;32m    102\u001B[0m     factorize,\n\u001B[0;32m    103\u001B[0m     unique,\n\u001B[0;32m    104\u001B[0m     value_counts,\n\u001B[0;32m    105\u001B[0m     NamedAgg,\n\u001B[0;32m    106\u001B[0m     array,\n\u001B[0;32m    107\u001B[0m     Categorical,\n\u001B[0;32m    108\u001B[0m     set_eng_float_format,\n\u001B[0;32m    109\u001B[0m     Series,\n\u001B[0;32m    110\u001B[0m     DataFrame,\n\u001B[0;32m    111\u001B[0m )\n\u001B[0;32m    113\u001B[0m from pandas.core.arrays.sparse import SparseDtype\n",
      "File \u001B[1;32mE:\\Anaconda3\\envs\\keke\\lib\\site-packages\\pandas\\compat\\__init__.py:17\u001B[0m\n\u001B[0;32m     16\u001B[0m \u001B[38;5;28;01mfrom\u001B[39;00m \u001B[38;5;21;01mpandas\u001B[39;00m\u001B[38;5;21;01m.\u001B[39;00m\u001B[38;5;21;01m_typing\u001B[39;00m \u001B[38;5;28;01mimport\u001B[39;00m F\n\u001B[1;32m---> 17\u001B[0m \u001B[38;5;28;01mfrom\u001B[39;00m \u001B[38;5;21;01mpandas\u001B[39;00m\u001B[38;5;21;01m.\u001B[39;00m\u001B[38;5;21;01mcompat\u001B[39;00m\u001B[38;5;21;01m.\u001B[39;00m\u001B[38;5;21;01m_constants\u001B[39;00m \u001B[38;5;28;01mimport\u001B[39;00m (\n\u001B[0;32m     18\u001B[0m     IS64,\n\u001B[0;32m     19\u001B[0m     PY39,\n\u001B[0;32m     20\u001B[0m     PY310,\n\u001B[0;32m     21\u001B[0m     PY311,\n\u001B[0;32m     22\u001B[0m     PYPY,\n\u001B[0;32m     23\u001B[0m )\n\u001B[0;32m     24\u001B[0m \u001B[38;5;28;01mimport\u001B[39;00m \u001B[38;5;21;01mpandas\u001B[39;00m\u001B[38;5;21;01m.\u001B[39;00m\u001B[38;5;21;01mcompat\u001B[39;00m\u001B[38;5;21;01m.\u001B[39;00m\u001B[38;5;21;01mcompressors\u001B[39;00m\n",
      "\u001B[1;31mImportError\u001B[0m: cannot import name 'ISMUSL' from 'pandas.compat._constants' (E:\\Anaconda3\\envs\\keke\\lib\\site-packages\\pandas\\compat\\_constants.py)",
      "\nThe above exception was the direct cause of the following exception:\n",
      "\u001B[1;31mImportError\u001B[0m                               Traceback (most recent call last)",
      "Cell \u001B[1;32mIn[5], line 1\u001B[0m\n\u001B[1;32m----> 1\u001B[0m \u001B[38;5;28;01mimport\u001B[39;00m \u001B[38;5;21;01mstatsmodels\u001B[39;00m\u001B[38;5;21;01m.\u001B[39;00m\u001B[38;5;21;01mtsa\u001B[39;00m\u001B[38;5;21;01m.\u001B[39;00m\u001B[38;5;21;01mapi\u001B[39;00m \u001B[38;5;28;01mas\u001B[39;00m \u001B[38;5;21;01msmt\u001B[39;00m\n\u001B[0;32m      2\u001B[0m \u001B[38;5;28;01mimport\u001B[39;00m \u001B[38;5;21;01mpandas\u001B[39;00m \u001B[38;5;28;01mas\u001B[39;00m \u001B[38;5;21;01mpd\u001B[39;00m\n\u001B[0;32m      3\u001B[0m \u001B[38;5;28;01mimport\u001B[39;00m \u001B[38;5;21;01mnumpy\u001B[39;00m \u001B[38;5;28;01mas\u001B[39;00m \u001B[38;5;21;01mnp\u001B[39;00m\n",
      "File \u001B[1;32mE:\\Anaconda3\\envs\\keke\\lib\\site-packages\\statsmodels\\__init__.py:1\u001B[0m\n\u001B[1;32m----> 1\u001B[0m \u001B[38;5;28;01mfrom\u001B[39;00m \u001B[38;5;21;01mstatsmodels\u001B[39;00m\u001B[38;5;21;01m.\u001B[39;00m\u001B[38;5;21;01mcompat\u001B[39;00m\u001B[38;5;21;01m.\u001B[39;00m\u001B[38;5;21;01mpatsy\u001B[39;00m \u001B[38;5;28;01mimport\u001B[39;00m monkey_patch_cat_dtype\n\u001B[0;32m      3\u001B[0m \u001B[38;5;28;01mfrom\u001B[39;00m \u001B[38;5;21;01mstatsmodels\u001B[39;00m\u001B[38;5;21;01m.\u001B[39;00m\u001B[38;5;21;01m_version\u001B[39;00m \u001B[38;5;28;01mimport\u001B[39;00m __version__, __version_tuple__\n\u001B[0;32m      5\u001B[0m __version_info__ \u001B[38;5;241m=\u001B[39m __version_tuple__\n",
      "File \u001B[1;32mE:\\Anaconda3\\envs\\keke\\lib\\site-packages\\statsmodels\\compat\\__init__.py:1\u001B[0m\n\u001B[1;32m----> 1\u001B[0m \u001B[38;5;28;01mfrom\u001B[39;00m \u001B[38;5;21;01mstatsmodels\u001B[39;00m\u001B[38;5;21;01m.\u001B[39;00m\u001B[38;5;21;01mtools\u001B[39;00m\u001B[38;5;21;01m.\u001B[39;00m\u001B[38;5;21;01m_testing\u001B[39;00m \u001B[38;5;28;01mimport\u001B[39;00m PytestTester\n\u001B[0;32m      3\u001B[0m \u001B[38;5;28;01mfrom\u001B[39;00m \u001B[38;5;21;01m.\u001B[39;00m\u001B[38;5;21;01mpython\u001B[39;00m \u001B[38;5;28;01mimport\u001B[39;00m (\n\u001B[0;32m      4\u001B[0m     asunicode,\n\u001B[0;32m      5\u001B[0m     asbytes,\n\u001B[1;32m   (...)\u001B[0m\n\u001B[0;32m     10\u001B[0m     lfilter,\n\u001B[0;32m     11\u001B[0m )\n\u001B[0;32m     13\u001B[0m __all__ \u001B[38;5;241m=\u001B[39m [\n\u001B[0;32m     14\u001B[0m     \u001B[38;5;124m\"\u001B[39m\u001B[38;5;124masunicode\u001B[39m\u001B[38;5;124m\"\u001B[39m,\n\u001B[0;32m     15\u001B[0m     \u001B[38;5;124m\"\u001B[39m\u001B[38;5;124masbytes\u001B[39m\u001B[38;5;124m\"\u001B[39m,\n\u001B[1;32m   (...)\u001B[0m\n\u001B[0;32m     21\u001B[0m     \u001B[38;5;124m\"\u001B[39m\u001B[38;5;124mtest\u001B[39m\u001B[38;5;124m\"\u001B[39m,\n\u001B[0;32m     22\u001B[0m ]\n",
      "File \u001B[1;32mE:\\Anaconda3\\envs\\keke\\lib\\site-packages\\statsmodels\\tools\\__init__.py:1\u001B[0m\n\u001B[1;32m----> 1\u001B[0m \u001B[38;5;28;01mfrom\u001B[39;00m \u001B[38;5;21;01m.\u001B[39;00m\u001B[38;5;21;01mtools\u001B[39;00m \u001B[38;5;28;01mimport\u001B[39;00m add_constant, categorical\n\u001B[0;32m      2\u001B[0m \u001B[38;5;28;01mfrom\u001B[39;00m \u001B[38;5;21;01mstatsmodels\u001B[39;00m\u001B[38;5;21;01m.\u001B[39;00m\u001B[38;5;21;01mtools\u001B[39;00m\u001B[38;5;21;01m.\u001B[39;00m\u001B[38;5;21;01m_testing\u001B[39;00m \u001B[38;5;28;01mimport\u001B[39;00m PytestTester\n\u001B[0;32m      4\u001B[0m __all__ \u001B[38;5;241m=\u001B[39m [\u001B[38;5;124m'\u001B[39m\u001B[38;5;124mtest\u001B[39m\u001B[38;5;124m'\u001B[39m, \u001B[38;5;124m'\u001B[39m\u001B[38;5;124madd_constant\u001B[39m\u001B[38;5;124m'\u001B[39m, \u001B[38;5;124m'\u001B[39m\u001B[38;5;124mcategorical\u001B[39m\u001B[38;5;124m'\u001B[39m]\n",
      "File \u001B[1;32mE:\\Anaconda3\\envs\\keke\\lib\\site-packages\\statsmodels\\tools\\tools.py:5\u001B[0m\n\u001B[0;32m      1\u001B[0m \u001B[38;5;124;03m\"\"\"\u001B[39;00m\n\u001B[0;32m      2\u001B[0m \u001B[38;5;124;03mUtility functions models code\u001B[39;00m\n\u001B[0;32m      3\u001B[0m \u001B[38;5;124;03m\"\"\"\u001B[39;00m\n\u001B[0;32m      4\u001B[0m \u001B[38;5;28;01mimport\u001B[39;00m \u001B[38;5;21;01mnumpy\u001B[39;00m \u001B[38;5;28;01mas\u001B[39;00m \u001B[38;5;21;01mnp\u001B[39;00m\n\u001B[1;32m----> 5\u001B[0m \u001B[38;5;28;01mimport\u001B[39;00m \u001B[38;5;21;01mpandas\u001B[39;00m \u001B[38;5;28;01mas\u001B[39;00m \u001B[38;5;21;01mpd\u001B[39;00m\n\u001B[0;32m      6\u001B[0m \u001B[38;5;28;01mimport\u001B[39;00m \u001B[38;5;21;01mscipy\u001B[39;00m\u001B[38;5;21;01m.\u001B[39;00m\u001B[38;5;21;01mlinalg\u001B[39;00m\n\u001B[0;32m      8\u001B[0m \u001B[38;5;28;01mfrom\u001B[39;00m \u001B[38;5;21;01mstatsmodels\u001B[39;00m\u001B[38;5;21;01m.\u001B[39;00m\u001B[38;5;21;01mtools\u001B[39;00m\u001B[38;5;21;01m.\u001B[39;00m\u001B[38;5;21;01mdata\u001B[39;00m \u001B[38;5;28;01mimport\u001B[39;00m _is_using_pandas\n",
      "File \u001B[1;32mE:\\Anaconda3\\envs\\keke\\lib\\site-packages\\pandas\\__init__.py:59\u001B[0m\n\u001B[0;32m     45\u001B[0m # let init-time option registration happen\n\u001B[0;32m     46\u001B[0m import pandas.core.config_init  # pyright: ignore # noqa:F401\n\u001B[0;32m     48\u001B[0m from pandas.core.api import (\n\u001B[0;32m     49\u001B[0m     # dtype\n\u001B[0;32m     50\u001B[0m     ArrowDtype,\n\u001B[0;32m     51\u001B[0m     Int8Dtype,\n\u001B[0;32m     52\u001B[0m     Int16Dtype,\n\u001B[0;32m     53\u001B[0m     Int32Dtype,\n\u001B[0;32m     54\u001B[0m     Int64Dtype,\n\u001B[0;32m     55\u001B[0m     UInt8Dtype,\n\u001B[0;32m     56\u001B[0m     UInt16Dtype,\n\u001B[0;32m     57\u001B[0m     UInt32Dtype,\n\u001B[0;32m     58\u001B[0m     UInt64Dtype,\n\u001B[1;32m---> 59\u001B[0m     Float32Dtype,\n\u001B[0;32m     60\u001B[0m     Float64Dtype,\n\u001B[0;32m     61\u001B[0m     CategoricalDtype,\n\u001B[0;32m     62\u001B[0m     PeriodDtype,\n\u001B[0;32m     63\u001B[0m     IntervalDtype,\n\u001B[0;32m     64\u001B[0m     DatetimeTZDtype,\n\u001B[0;32m     65\u001B[0m     StringDtype,\n\u001B[0;32m     66\u001B[0m     BooleanDtype,\n\u001B[0;32m     67\u001B[0m     # missing\n\u001B[0;32m     68\u001B[0m     NA,\n\u001B[0;32m     69\u001B[0m     isna,\n\u001B[0;32m     70\u001B[0m     isnull,\n\u001B[0;32m     71\u001B[0m     notna,\n\u001B[0;32m     72\u001B[0m     notnull,\n\u001B[0;32m     73\u001B[0m     # indexes\n\u001B[0;32m     74\u001B[0m     Index,\n\u001B[0;32m     75\u001B[0m     CategoricalIndex,\n\u001B[0;32m     76\u001B[0m     RangeIndex,\n\u001B[0;32m     77\u001B[0m     MultiIndex,\n\u001B[0;32m     78\u001B[0m     IntervalIndex,\n\u001B[0;32m     79\u001B[0m     TimedeltaIndex,\n\u001B[0;32m     80\u001B[0m     DatetimeIndex,\n\u001B[0;32m     81\u001B[0m     PeriodIndex,\n\u001B[0;32m     82\u001B[0m     IndexSlice,\n\u001B[0;32m     83\u001B[0m     # tseries\n\u001B[0;32m     84\u001B[0m     NaT,\n\u001B[0;32m     85\u001B[0m     Period,\n\u001B[0;32m     86\u001B[0m     period_range,\n\u001B[0;32m     87\u001B[0m     Timedelta,\n\u001B[0;32m     88\u001B[0m     timedelta_range,\n\u001B[0;32m     89\u001B[0m     Timestamp,\n\u001B[0;32m     90\u001B[0m     date_range,\n\u001B[0;32m     91\u001B[0m     bdate_range,\n\u001B[0;32m     92\u001B[0m     Interval,\n\u001B[0;32m     93\u001B[0m     interval_range,\n\u001B[0;32m     94\u001B[0m     DateOffset,\n\u001B[0;32m     95\u001B[0m     # conversion\n\u001B[0;32m     96\u001B[0m     to_numeric,\n\u001B[0;32m     97\u001B[0m     to_datetime,\n\u001B[0;32m     98\u001B[0m     to_timedelta,\n\u001B[0;32m     99\u001B[0m     # misc\n\u001B[0;32m    100\u001B[0m     Flags,\n\u001B[0;32m    101\u001B[0m     Grouper,\n\u001B[0;32m    102\u001B[0m     factorize,\n\u001B[0;32m    103\u001B[0m     unique,\n\u001B[0;32m    104\u001B[0m     value_counts,\n\u001B[0;32m    105\u001B[0m     NamedAgg,\n\u001B[0;32m    106\u001B[0m     array,\n\u001B[0;32m    107\u001B[0m     Categorical,\n\u001B[0;32m    108\u001B[0m     set_eng_float_format,\n\u001B[0;32m    109\u001B[0m     Series,\n\u001B[0;32m    110\u001B[0m     DataFrame,\n\u001B[0;32m    111\u001B[0m )\n\u001B[0;32m    113\u001B[0m from pandas.core.arrays.sparse import SparseDtype\n\u001B[0;32m    115\u001B[0m from pandas.tseries.api import infer_freq\n",
      "\u001B[1;31mImportError\u001B[0m: C extension: pandas.compat._constants not built. If you want to import pandas from the source directory, you may need to run 'python setup.py build_ext' to build the C extensions first."
     ]
    }
   ],
   "source": [
    "import statsmodels.tsa.api as smt\n",
    "import pandas as pd\n",
    "import numpy as np\n",
    "import matplotlib.pyplot as plt"
   ]
  },
  {
   "cell_type": "markdown",
   "metadata": {},
   "source": [
    "### 利用statsmodels"
   ]
  },
  {
   "cell_type": "code",
   "execution_count": null,
   "metadata": {},
   "outputs": [],
   "source": [
    "def drawts(y,pname):\n",
    "    ##draw ax\n",
    "    fig = plt.figure(figsize=(10,8))\n",
    "    ts_ax=plt.subplot2grid((2,2),(0,0),colspan=2)\n",
    "    acf_ax=plt.subplot2grid((2,2),(1,0))\n",
    "    pacf_ax=plt.subplot2grid((2,2),(1,1))\n",
    "    ##draw plot\n",
    "    ts_ax.plot(y,'*-')\n",
    "    ts_ax.set_title('Time Series Analysis Plots')\n",
    "    smt.graphics.plot_acf(y,lags=None,ax=acf_ax,alpha=0.05) ##2sigma\n",
    "    smt.graphics.plot_pacf(y,lags=None,ax=pacf_ax,alpha=0.05)  ##2sigma\n",
    "    #plt.savefig('%s.jpg'%pname,dpi=256)\n",
    "    plt.show()\n",
    "    plt.close()"
   ]
  },
  {
   "cell_type": "markdown",
   "metadata": {},
   "source": [
    "### 自定義"
   ]
  },
  {
   "cell_type": "markdown",
   "metadata": {},
   "source": [
    "作業：\n",
    "在\n",
    "    ###YOUR CODE to calculate autocorrelation function\n",
    "    ###YOUR CODE to calculate autocorrelation function\n",
    "    ###YOUR CODE to calculate autocorrelation function\n",
    "    ###YOUR CODE to calculate autocorrelation function\n",
    "    ###YOUR CODE to calculate autocorrelation function\n",
    "和\n",
    "    ###YOUR CODE to calculate 2 sigma\n",
    "    ###YOUR CODE to calculate 2 sigma\n",
    "    ###YOUR CODE to calculate 2 sigma\n",
    "    ###YOUR CODE to calculate 2 sigma\n",
    "    ###YOUR CODE to calculate 2 sigma\n",
    "填寫相應代碼來計算延遲k自相關系數和2倍標准差\n",
    "\n",
    "並將myname='KONGHOIIO'修改為你的姓名"
   ]
  },
  {
   "cell_type": "code",
   "execution_count": null,
   "metadata": {},
   "outputs": [],
   "source": [
    "def mydrawts(y,pname):\n",
    "    myname='KONGHOIIO'\n",
    "    ##draw ax\n",
    "    fig = plt.figure(figsize=(10,8))\n",
    "    ts_ax=plt.subplot2grid((2,2),(0,0),colspan=2)\n",
    "    acf_ax=plt.subplot2grid((2,2),(1,0))\n",
    "    pacf_ax=plt.subplot2grid((2,2),(1,1))\n",
    "    ##draw plot\n",
    "    ts_ax.plot(y,'*-')\n",
    "    ts_ax.set_title('Time Series Analysis Plots(custom %s)'%myname)\n",
    "    \n",
    "    n=20\n",
    "    \n",
    "    ##calclate acf    \n",
    "    myacf=np.ones((n))\n",
    "    ###YOUR CODE to calculate autocorrelation function\n",
    "    ###YOUR CODE to calculate autocorrelation function\n",
    "    ###YOUR CODE to calculate autocorrelation function\n",
    "    ###YOUR CODE to calculate autocorrelation function\n",
    "    ###YOUR CODE to calculate autocorrelation function\n",
    "    \n",
    "    twosigma=np.ones((n))\n",
    "    ###YOUR CODE to calculate 2 sigma\n",
    "    ###YOUR CODE to calculate 2 sigma\n",
    "    ###YOUR CODE to calculate 2 sigma\n",
    "    ###YOUR CODE to calculate 2 sigma\n",
    "    ###YOUR CODE to calculate 2 sigma\n",
    "    \n",
    "    \n",
    "    acf_ax.bar(range(len(myacf)-1),myacf[:-1])\n",
    "    acf_ax.fill_between(np.arange(1,len(myacf))-0.5,-1*twosigma[1:],twosigma[1:],color='lightblue')\n",
    "    \n",
    "    #plt.savefig('%s.jpg'%pname,dpi=256)\n",
    "    plt.show()\n",
    "    plt.close()"
   ]
  },
  {
   "cell_type": "code",
   "execution_count": null,
   "metadata": {
    "scrolled": false
   },
   "outputs": [],
   "source": [
    "##read data\n",
    "dfname='附录1.2'\n",
    "y=pd.read_csv('%s.csv'%dfname,header=None)\n",
    "y.iloc[:,0]=y.iloc[:,0].astype('float')\n",
    "y=y.values[:,0]\n",
    "drawts(y,dfname)\n",
    "mydrawts(y,dfname)"
   ]
  },
  {
   "cell_type": "code",
   "execution_count": null,
   "metadata": {},
   "outputs": [],
   "source": [
    "##read data\n",
    "dfname='附录1.3'\n",
    "y=pd.read_csv('%s.csv'%dfname,header=None)\n",
    "y.iloc[:,0]=y.iloc[:,0].astype('float')\n",
    "y=y.values[:,0]\n",
    "drawts(y,dfname)\n",
    "mydrawts(y,dfname)"
   ]
  },
  {
   "cell_type": "code",
   "execution_count": null,
   "metadata": {},
   "outputs": [],
   "source": [
    "##read data\n",
    "dfname='附录1.4'\n",
    "y=pd.read_csv('%s.csv'%dfname,header=None)\n",
    "y.iloc[:,0]=y.iloc[:,0].astype('float')\n",
    "y=y.values[:,0]\n",
    "drawts(y,dfname)\n",
    "mydrawts(y,dfname)"
   ]
  }
 ],
 "metadata": {
  "kernelspec": {
   "display_name": "Python 3 (ipykernel)",
   "language": "python",
   "name": "python3"
  },
  "language_info": {
   "codemirror_mode": {
    "name": "ipython",
    "version": 3
   },
   "file_extension": ".py",
   "mimetype": "text/x-python",
   "name": "python",
   "nbconvert_exporter": "python",
   "pygments_lexer": "ipython3",
   "version": "3.9.18"
  }
 },
 "nbformat": 4,
 "nbformat_minor": 4
}