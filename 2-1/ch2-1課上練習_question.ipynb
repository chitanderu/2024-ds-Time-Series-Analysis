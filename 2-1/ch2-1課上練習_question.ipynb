{
 "cells": [
  {
   "cell_type": "code",
   "execution_count": 1,
   "metadata": {},
   "outputs": [],
   "source": [
    "import pandas as pd\n",
    "import numpy as np"
   ]
  },
  {
   "cell_type": "code",
   "execution_count": 2,
   "metadata": {},
   "outputs": [],
   "source": [
    "##read data\n",
    "dfname='附录1.2'\n",
    "y=pd.read_csv('%s.csv'%dfname,header=None)\n",
    "y.iloc[:,0]=y.iloc[:,0].astype('float')\n",
    "y=y.values[:,0]"
   ]
  },
  {
   "cell_type": "code",
   "execution_count": 7,
   "metadata": {},
   "outputs": [
    {
     "name": "stdout",
     "output_type": "stream",
     "text": [
      "327.5861111111111\n"
     ]
    }
   ],
   "source": [
    "#均值\n",
    "ymean=#???????????????\n",
    "print(ymean)"
   ]
  },
  {
   "cell_type": "code",
   "execution_count": 12,
   "metadata": {},
   "outputs": [
    {
     "name": "stdout",
     "output_type": "stream",
     "text": [
      "[1.         0.91392186 0.84342292 0.76719398]\n"
     ]
    }
   ],
   "source": [
    "#自協方差函數\n",
    "acf=np.ones((4))\n",
    "#??????????????\n",
    "#??????????????\n",
    "#??????????????\n",
    "print(acf)"
   ]
  }
 ],
 "metadata": {
  "kernelspec": {
   "name": "pycharm-a9386db9",
   "language": "python",
   "display_name": "PyCharm (时间序列分析)"
  },
  "language_info": {
   "codemirror_mode": {
    "name": "ipython",
    "version": 3
   },
   "file_extension": ".py",
   "mimetype": "text/x-python",
   "name": "python",
   "nbconvert_exporter": "python",
   "pygments_lexer": "ipython3",
   "version": "3.8.3"
  }
 },
 "nbformat": 4,
 "nbformat_minor": 4
}